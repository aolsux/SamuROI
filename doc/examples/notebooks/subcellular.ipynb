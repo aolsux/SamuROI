{
 "cells": [
  {
   "cell_type": "code",
   "execution_count": null,
   "metadata": {
    "collapsed": false
   },
   "outputs": [],
   "source": [
    "# import samuroi and numpy, also select the proper matplotlib frontend.\n",
    "%matplotlib qt4\n",
    "\n",
    "import numpy\n",
    "import samuroi"
   ]
  },
  {
   "cell_type": "markdown",
   "metadata": {},
   "source": [
    "#### Load video data"
   ]
  },
  {
   "cell_type": "code",
   "execution_count": null,
   "metadata": {
    "collapsed": false
   },
   "outputs": [],
   "source": [
    "from samuroi.plugins.tif import load_tif\n",
    "\n",
    "# load the multi image tif into a 3D numpy array \n",
    "data = load_tif('/path/to/your.tif')\n",
    "\n",
    "# alternatively, one can directly load from a numpy file with `data=numpy.load(prefix+'.npy')`"
   ]
  },
  {
   "cell_type": "markdown",
   "metadata": {},
   "source": [
    "#### Optional: image stabilization\n",
    "The algorithm will try to remove stutters from the video with some optical flow calculations from opencv."
   ]
  },
  {
   "cell_type": "code",
   "execution_count": null,
   "metadata": {
    "collapsed": false
   },
   "outputs": [],
   "source": [
    "try:\n",
    "    # try import stabilization utility (requires opencv)\n",
    "    from samuroi.plugins.stabilize import Stabilization \n",
    "    \n",
    "    # the create stabilization tool and run it\n",
    "    app = Stabilization(data = data)\n",
    "    \n",
    "    # correct the data by the stabilization transformations\n",
    "    data = app.apply(data)        \n",
    "except Exception as e:\n",
    "    # print the reason why stabilization failed\n",
    "    print e    "
   ]
  },
  {
   "cell_type": "markdown",
   "metadata": {},
   "source": [
    "#### Create a morphology image from the video\n",
    "A straight forward approach is to use a maximum projection of the video across the time axis."
   ]
  },
  {
   "cell_type": "code",
   "execution_count": null,
   "metadata": {
    "collapsed": false,
    "scrolled": false
   },
   "outputs": [],
   "source": [
    "morphology = numpy.max(data, axis=-1)"
   ]
  },
  {
   "cell_type": "markdown",
   "metadata": {},
   "source": [
    "#### Optional: Background Subtraction\n",
    "Here some percentile values of the data are used to automatically determine a reasonable background value."
   ]
  },
  {
   "cell_type": "code",
   "execution_count": null,
   "metadata": {
    "collapsed": false
   },
   "outputs": [],
   "source": [
    "background = numpy.percentile(data,q=5)\n",
    "foreground = numpy.percentile(data,q=98)\n",
    "print \"background value: {}\\n foreground value: {}\".format(background,foreground)\n",
    "\n",
    "# background subtraction\n",
    "data = data - background"
   ]
  },
  {
   "cell_type": "markdown",
   "metadata": {},
   "source": [
    "#### Optional: Frequency band filtering\n",
    "Bandstop filtering the data is especially useful when data was acquired with a spinning disc confocal microscope. Here `fs` corresponds to sampling frequency in Hz, `start` and `stop` define the bandstop filtering window. \n",
    "The filter frequencies have to be manually read out from the plot of the power spectrum and the filtered data in cell below. In this example the frequencies from 18.95 Hz to 19.05 Hz are surpressed. The data is sampled on 20.83 Hz basis."
   ]
  },
  {
   "cell_type": "code",
   "execution_count": null,
   "metadata": {
    "collapsed": false
   },
   "outputs": [],
   "source": [
    "# calculate power spectrum of data\n",
    "df, psd = power_spectrum(data, fs = 20.83)\n",
    "\n",
    "# filter some frequencies\n",
    "data = bandstop(data, fs = 20.83 , start = 1,stop = 2)\n",
    "\n",
    "# power spectrum of the unfiltered data\n",
    "df, psdfiltered = power_spectrum(data, fs = 20.83)\n",
    "\n",
    "# plot power spectra of unfiltered and filtered data to check the bandstop\n",
    "import matplotlib.pyplot as plt\n",
    "\n",
    "plt.figure()\n",
    "plt.plot(df,psd, label = 'non-filtered')\n",
    "plt.plot(df,psdfiltered, label = 'filtered')\n",
    "plt.yscale('log')\n",
    "plt.xlabel('frequency (Hz)')\n",
    "plt.ylabel('Power Spectral Density')\n",
    "plt.legend()"
   ]
  },
  {
   "cell_type": "markdown",
   "metadata": {},
   "source": [
    "#### Optional: $\\Delta F/F$ calculation\n",
    "\n",
    "To approximate the base fluorescence value $F$, the data gets chunked into blocks of equal size, then the standard deviation for each block is calculated for each pixel. Then the mean value of the pixel intensity is calculated for the block with the smalest standard deviation and this value is taken as the base fluorescense value $F(x,y)$ where $x$ and $y$ are the pixel coordinates. \n",
    "Other options are (see `samuroi.plugins.baseline` package):\n",
    "* linear bleech correction (`linbleeched_deltaF`)\n",
    "* median correction (`median_deltaF`)"
   ]
  },
  {
   "cell_type": "code",
   "execution_count": null,
   "metadata": {
    "collapsed": false
   },
   "outputs": [],
   "source": [
    "from samuroi.plugins.baseline import stdv_deltaF\n",
    "\n",
    "mean = numpy.mean(data, axis = -1)\n",
    "data = stdv_deltaF(data)"
   ]
  },
  {
   "cell_type": "markdown",
   "metadata": {},
   "source": [
    "#### Finally: Show the GUI"
   ]
  },
  {
   "cell_type": "code",
   "execution_count": null,
   "metadata": {
    "collapsed": false
   },
   "outputs": [],
   "source": [
    "app = samuroi.SamuROIWindow(data = data, morphology = morphology)\n",
    "\n",
    "app.show()"
   ]
  },
  {
   "cell_type": "markdown",
   "metadata": {},
   "source": [
    "#### Optional: Load an SWC file\n",
    "\n",
    "Samuroi can either load files via the file dialog, or directly via ipython statements. Because the custom overlay will remove superfluos pixels from the mask, we can choose a larger radius for the loaded swc."
   ]
  },
  {
   "cell_type": "code",
   "execution_count": null,
   "metadata": {
    "collapsed": false
   },
   "outputs": [],
   "source": [
    "from samuroi.plugins.swc import load_swc\n",
    "\n",
    "swc = load_swc('/path/to/your.swc')\n",
    "\n",
    "# increase radius of swc\n",
    "swc.radius *= 2\n",
    "\n",
    "# add the swc to the gui\n",
    "app.segmentation.load_swc(swc)"
   ]
  }
 ],
 "metadata": {
  "kernelspec": {
   "display_name": "Python 2",
   "language": "python",
   "name": "python2"
  },
  "language_info": {
   "codemirror_mode": {
    "name": "ipython",
    "version": 2
   },
   "file_extension": ".py",
   "mimetype": "text/x-python",
   "name": "python",
   "nbconvert_exporter": "python",
   "pygments_lexer": "ipython2",
   "version": "2.7.6"
  }
 },
 "nbformat": 4,
 "nbformat_minor": 0
}
