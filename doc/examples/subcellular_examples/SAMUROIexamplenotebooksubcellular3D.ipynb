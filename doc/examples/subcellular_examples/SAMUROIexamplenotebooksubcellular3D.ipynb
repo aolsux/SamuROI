{
 "cells": [
  {
   "cell_type": "code",
   "execution_count": 1,
   "metadata": {
    "collapsed": true
   },
   "outputs": [],
   "source": [
    "#all necessary imports to run SAMUROI\n",
    "%matplotlib qt4\n",
    "\n",
    "import numpy\n",
    "\n",
    "import scipy.signal\n",
    "import matplotlib.pyplot as plt\n",
    "\n",
    "import samuroi\n",
    "from samuroi.plugins.baseline import bandstop, power_spectrum \n",
    "from samuroi.plugins.baseline import linbleeched_deltaF\n",
    "from samuroi.plugins.baseline import stdv_deltaF\n",
    " \n",
    "from samuroi.plugins.stabilize import Stabilization \n",
    "\n",
    "\n",
    "from samuroi.plugins.swc import load_swc\n",
    "from samuroi.plugins.tif import load_tif\n",
    "\n"
   ]
  },
  {
   "cell_type": "code",
   "execution_count": 2,
   "metadata": {
    "collapsed": false
   },
   "outputs": [],
   "source": [
    "\n",
    "#prefix defines the filepath to your experiment of choice\n",
    "\n",
    "\n",
    "prefix ='/Volumes/J/3d/170309/s1/fov1/AVG_flz4883.tif'"
   ]
  },
  {
   "cell_type": "code",
   "execution_count": 3,
   "metadata": {
    "collapsed": false
   },
   "outputs": [],
   "source": [
    "#creates data, a numpy object out of the multitif file. Data is the image sequence.\n",
    "\n",
    "\n",
    "\n",
    "data = load_tif(prefix)\n",
    "#alternatively, one can upload data from a numpy file, which is also an image sequence that may have been processed before\n",
    "\n",
    "##data=numpy.load(prefix+'.npy')"
   ]
  },
  {
   "cell_type": "code",
   "execution_count": 4,
   "metadata": {
    "collapsed": false
   },
   "outputs": [],
   "source": [
    "#stabilization is optional. if possible, data will be modified into a stabilized version of data.\"\"\"\n",
    "try:\n",
    "    #the create stabilization tool and run it\n",
    "    app = Stabilization(data = data)\n",
    "    \n",
    "    #correct the data by the stabilization transformations\n",
    "    data = app.apply(data)\n",
    "        \n",
    "except Exception as e:\n",
    "    #Print the reason why stabilization failed.\n",
    "    print e    \n",
    "\n",
    "\n"
   ]
  },
  {
   "cell_type": "code",
   "execution_count": 5,
   "metadata": {
    "collapsed": false
   },
   "outputs": [
    {
     "name": "stdout",
     "output_type": "stream",
     "text": [
      "106.0\n",
      "515.0\n"
     ]
    }
   ],
   "source": [
    "#percentile based evaluation of background value. \n",
    "#q values indicate which percentiles are used for background and foreground. prints foreground and background.\n",
    "background=numpy.percentile(data,q=5)\n",
    "foreground=numpy.percentile(data,q=98)\n",
    "print background\n",
    "#foreground is just to indicate brightest pixels in image to illustrate range\n",
    "print foreground"
   ]
  },
  {
   "cell_type": "code",
   "execution_count": 6,
   "metadata": {
    "collapsed": false
   },
   "outputs": [],
   "source": [
    "#background subtraction: \n",
    "data=data-background"
   ]
  },
  {
   "cell_type": "code",
   "execution_count": 7,
   "metadata": {
    "collapsed": false
   },
   "outputs": [],
   "source": [
    "#creates a projection image of the data image sequence which will used as a morphology imag. Here, numpy.max() is used for maximal intensity projections.\n",
    "#different types of numpy operations can be applied here.\n",
    "morphology = numpy.max(data, axis=-1)\n"
   ]
  },
  {
   "cell_type": "code",
   "execution_count": 9,
   "metadata": {
    "collapsed": false
   },
   "outputs": [
    {
     "data": {
      "text/plain": [
       "10928.0"
      ]
     },
     "execution_count": 9,
     "metadata": {},
     "output_type": "execute_result"
    }
   ],
   "source": [
    "morphology.max()"
   ]
  },
  {
   "cell_type": "code",
   "execution_count": 10,
   "metadata": {
    "collapsed": false
   },
   "outputs": [],
   "source": [
    "#functions needed for filter with spectral analysis and display\n",
    "  \n",
    "def power_spectrum(data, fs):\n",
    "#Calculate the power spectral density (psd or power spectrum) and corresponding frequencies of the data.\n",
    "    #Arguments: data: the video data of the recording.\n",
    "               #fs:   the sampling frequency of the data (used to scale the x axis).\n",
    "    #Returns:  tuple holding df, avgpsd\n",
    "              #df:     the frequency values defined by fs.\n",
    "              #avgpsd: the power spectrum of the data.\n",
    "              #First each pixels time series gets fourier transformed. Then, the power spectrum is\n",
    "            #calculated by averaging over all pixel fourier transforms and taking the absolute value.\n",
    "      \n",
    "   \n",
    "    N = data.shape[-1] / 2\n",
    "    _dfft = numpy.fft.fft(data,axis = -1)\n",
    "    avgpower = (_dfft*numpy.conjugate(_dfft)).mean(axis = (0,1))[0:N].real\n",
    "    df = numpy.fft.fftfreq(n = data.shape[-1], d = 1./fs)[0:N]\n",
    "    return df,avgpower\n",
    "\n",
    "def bandstop(data, fs, start, stop):    \n",
    "    #Apply band stop filter on the data.\n",
    "    # Arguments: data, the video data of a recording.\n",
    "               #fs, the sampling frequency of the data.\n",
    "               #start, the lower frequency, where to start filtering.\n",
    "               #stop, the upper frequency, where to stop filtering. \n",
    "    #Returns: filtered, A numpy array with the same shape as data. \n",
    "                       #but with frequency filter applied.\n",
    "                       \n",
    "    \n",
    "    # filter out frequencies from 12-13 Hz where data is sampled on 50 Hz basis.\n",
    "    \n",
    "    assert(start < stop)\n",
    "    nyq = 0.5 * fs\n",
    "    high = stop/nyq\n",
    "    low  = start/nyq\n",
    "    order = 3\n",
    "    b, a = scipy.signal.butter(order, [low, high], btype='bandstop')\n",
    "    #zi = scipy.signal.lfiltic(b, a, y=[0.])\n",
    "    dataf = scipy.signal.lfilter(b, a, data)\n",
    "    return dataf\n",
    "\n"
   ]
  },
  {
   "cell_type": "code",
   "execution_count": 11,
   "metadata": {
    "collapsed": false
   },
   "outputs": [],
   "source": [
    "#Bandstop filtering the data is especially useful when data was acquired with a spinning disc confocal. 'fs' \n",
    "#corresponds to sampling frequency in Hz, 'start' and 'stop' define the bandstop filtering window. \n",
    "#filter frequencies have to be manually read out from the plot of the power spectrum and the filtered data in cell below.\n",
    "# filter out frequencies from 18.95-19.05 Hz where data is sampled on 51.13 Hz basis.\n",
    "filtered = bandstop(data, fs =20.83 , start =2.35,stop =2.45)\n",
    "\n",
    "\n",
    "\n"
   ]
  },
  {
   "cell_type": "code",
   "execution_count": 12,
   "metadata": {
    "collapsed": false
   },
   "outputs": [
    {
     "data": {
      "text/plain": [
       "<matplotlib.legend.Legend at 0x11e196a10>"
      ]
     },
     "execution_count": 12,
     "metadata": {},
     "output_type": "execute_result"
    }
   ],
   "source": [
    "#power spectrum of the unfiltered data\n",
    "df,psd = power_spectrum(data,fs =20.83)\n",
    "\n",
    "#power spectrum of the unfiltered data\n",
    "df,psdfiltered = power_spectrum(filtered,fs =20.83)\n",
    "\n",
    "\n",
    "\n",
    "#plot power spectra of unfiltered and filtered data to check the bandstop\n",
    "plt.figure()\n",
    "plt.plot(df,psd, label = 'non-filtered')\n",
    "plt.plot(df,psdfiltered, label = 'filtered')\n",
    "plt.yscale('log')\n",
    "plt.xlabel('frequency (Hz)')\n",
    "plt.ylabel('Power Spectral Density')\n",
    "plt.legend()"
   ]
  },
  {
   "cell_type": "code",
   "execution_count": 13,
   "metadata": {
    "collapsed": false
   },
   "outputs": [],
   "source": [
    "#define the filtered data as data\n",
    "data=filtered"
   ]
  },
  {
   "cell_type": "code",
   "execution_count": 14,
   "metadata": {
    "collapsed": false
   },
   "outputs": [],
   "source": [
    "#calculate mean and deltaF for  data\n",
    "\n",
    "mean = numpy.mean(data,axis = -1)\n",
    "#different modes function deltaF 'linear_bleech', 'stdv' , 'median'\"\"\"\n",
    "#data = linbleeched_deltaF(data)\n",
    "##data = median_deltaF(data)\n",
    "data = stdv_deltaF(data)\n",
    "\n"
   ]
  },
  {
   "cell_type": "code",
   "execution_count": 15,
   "metadata": {
    "collapsed": false
   },
   "outputs": [],
   "source": [
    "#show the gui \n",
    "app = samuroi.SamuROIWindow(data = data,morphology=morphology)\n",
    "\n",
    "app.show()"
   ]
  },
  {
   "cell_type": "code",
   "execution_count": null,
   "metadata": {
    "collapsed": false
   },
   "outputs": [],
   "source": [
    "#loads swc file from e.g. neutube into the gui\n",
    "swc = load_swc('/Users/friedrichjohenning/Dropbox/aprojects/SAMUROI/examples/subcellular_examples/exampledendrite.swc')\n",
    "\n",
    "\n",
    "#this sets the width of the branch ROI generated from the swc. Can be larger than the dendritic diameter as it will\n",
    "#only incorporate unmasked pixels.\n",
    "swc.radius *= 2\n",
    "\n",
    "#will apply the swc to the GUI as a branchmask\n",
    "app.segmentation.load_swc(swc)\n",
    "\n",
    "\n",
    "\n",
    "\n"
   ]
  },
  {
   "cell_type": "code",
   "execution_count": null,
   "metadata": {
    "collapsed": true
   },
   "outputs": [],
   "source": []
  }
 ],
 "metadata": {
  "kernelspec": {
   "display_name": "Python 2",
   "language": "python",
   "name": "python2"
  },
  "language_info": {
   "codemirror_mode": {
    "name": "ipython",
    "version": 2
   },
   "file_extension": ".py",
   "mimetype": "text/x-python",
   "name": "python",
   "nbconvert_exporter": "python",
   "pygments_lexer": "ipython2",
   "version": "2.7.12"
  }
 },
 "nbformat": 4,
 "nbformat_minor": 0
}
